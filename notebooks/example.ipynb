{
 "cells": [
  {
   "cell_type": "code",
   "execution_count": 1,
   "metadata": {},
   "outputs": [],
   "source": [
    "import torch\n",
    "import matplotlib.pyplot as plt\n",
    "from distmap import (\n",
    "    l1_distance_transform,\n",
    "    l1_signed_transform,\n",
    "    euclidean_distance_transform,\n",
    "    euclidean_signed_transform,\n",
    ")"
   ]
  },
  {
   "cell_type": "code",
   "execution_count": null,
   "metadata": {},
   "outputs": [],
   "source": [
    "# Generate the maks of a circle\n",
    "\n",
    "circle = torch.stack([torch.arange(128, dtype=torch.float32)]*2, -1)\n",
    "circle = circle.sub_(128/2).square().sum(-1).sqrt() < 48\n",
    "\n",
    "plt.imshow(circle)\n",
    "plt.axis('off')\n",
    "plt.show()"
   ]
  },
  {
   "cell_type": "code",
   "execution_count": null,
   "metadata": {},
   "outputs": [],
   "source": [
    "# Compute different distances\n",
    "\n",
    "plt.subplot(2, 4, 1)\n",
    "dt = l1_distance_transform(circle)\n",
    "plt.imshow(dt)\n",
    "plt.axis('off')\n",
    "plt.colorbar()\n",
    "\n",
    "plt.subplot(2, 4, 2)\n",
    "dt = l1_signed_transform(circle)\n",
    "plt.imshow(dt, cmap='coolwarm', vmin=-dt.abs().max(), vmax=dt.abs().max())\n",
    "plt.axis('off')\n",
    "plt.colorbar()\n",
    "\n",
    "plt.subplot(2, 4, 3)\n",
    "dt = euclidean_distance_transform(circle)\n",
    "plt.imshow(dt)\n",
    "plt.axis('off')\n",
    "plt.colorbar()\n",
    "\n",
    "plt.subplot(2, 4, 4)\n",
    "dt = euclidean_signed_transform(circle)\n",
    "plt.imshow(dt, cmap='coolwarm', vmin=-dt.abs().max(), vmax=dt.abs().max())\n",
    "plt.axis('off')\n",
    "plt.colorbar()"
   ]
  }
 ],
 "metadata": {
  "kernelspec": {
   "display_name": "cornucopia",
   "language": "python",
   "name": "python3"
  },
  "language_info": {
   "codemirror_mode": {
    "name": "ipython",
    "version": 3
   },
   "file_extension": ".py",
   "mimetype": "text/x-python",
   "name": "python",
   "nbconvert_exporter": "python",
   "pygments_lexer": "ipython3",
   "version": "3.12.2"
  }
 },
 "nbformat": 4,
 "nbformat_minor": 2
}
